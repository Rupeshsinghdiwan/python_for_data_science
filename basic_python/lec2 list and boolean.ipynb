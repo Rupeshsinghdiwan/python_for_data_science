{
 "cells": [
  {
   "cell_type": "code",
   "execution_count": 19,
   "id": "0d04ca24-9c27-4ec0-b1c8-00fdc732fa02",
   "metadata": {},
   "outputs": [],
   "source": [
    "my_str = \"rupesh raj\""
   ]
  },
  {
   "cell_type": "code",
   "execution_count": 20,
   "id": "13bc78a3-3c76-487e-bdb5-ea9de8ac9ee9",
   "metadata": {},
   "outputs": [
    {
     "data": {
      "text/plain": [
       "True"
      ]
     },
     "execution_count": 20,
     "metadata": {},
     "output_type": "execute_result"
    }
   ],
   "source": [
    "my_str.islower()\n",
    "my_str.upper()\n",
    "my_str.lower()\n",
    "my_str.islower()"
   ]
  },
  {
   "cell_type": "code",
   "execution_count": 32,
   "id": "c4751f05-cbff-4902-8e98-05c165c42f41",
   "metadata": {},
   "outputs": [
    {
     "data": {
      "text/plain": [
       "list"
      ]
     },
     "execution_count": 32,
     "metadata": {},
     "output_type": "execute_result"
    }
   ],
   "source": [
    "my_list =[\"ram\" ,\"rahul\", 1, 3, 4,6]\n",
    "type(my_list)"
   ]
  },
  {
   "cell_type": "code",
   "execution_count": 33,
   "id": "e2d5cbaf-ad26-4c68-b9b5-8b0648fd24c2",
   "metadata": {},
   "outputs": [
    {
     "name": "stdout",
     "output_type": "stream",
     "text": [
      "['ram', 'rahul', 1, 3, 4, 6, 7]\n"
     ]
    },
    {
     "data": {
      "text/plain": [
       "7"
      ]
     },
     "execution_count": 33,
     "metadata": {},
     "output_type": "execute_result"
    }
   ],
   "source": [
    "my_list.append( 7)\n",
    "print(my_list)\n",
    "len(my_list)"
   ]
  },
  {
   "cell_type": "code",
   "execution_count": 34,
   "id": "96916295-1fa9-435f-a40a-0ea2a93f9c2e",
   "metadata": {},
   "outputs": [
    {
     "data": {
      "text/plain": [
       "['ram', 'rahul', 1, 3, 4, 6, 7, [99, 100]]"
      ]
     },
     "execution_count": 34,
     "metadata": {},
     "output_type": "execute_result"
    }
   ],
   "source": [
    "my_list.append([99,100])\n",
    "my_list"
   ]
  },
  {
   "cell_type": "code",
   "execution_count": 39,
   "id": "f84731f8-a334-4f56-b3fe-fa66671c1a97",
   "metadata": {},
   "outputs": [
    {
     "data": {
      "text/plain": [
       "['rahul', 1, 3, 4, 6, 7, [99, 100]]"
      ]
     },
     "execution_count": 39,
     "metadata": {},
     "output_type": "execute_result"
    }
   ],
   "source": [
    "my_list[1:]"
   ]
  },
  {
   "cell_type": "code",
   "execution_count": 40,
   "id": "9e611e12-857f-4d5e-89fe-20478d611342",
   "metadata": {},
   "outputs": [
    {
     "ename": "TypeError",
     "evalue": "'list' object is not callable",
     "output_type": "error",
     "traceback": [
      "\u001b[1;31m---------------------------------------------------------------------------\u001b[0m",
      "\u001b[1;31mTypeError\u001b[0m                                 Traceback (most recent call last)",
      "Cell \u001b[1;32mIn[40], line 1\u001b[0m\n\u001b[1;32m----> 1\u001b[0m my_list(\u001b[38;5;241m7\u001b[39m,\u001b[38;5;124m\"\u001b[39m\u001b[38;5;124mraj\u001b[39m\u001b[38;5;124m\"\u001b[39m)\n",
      "\u001b[1;31mTypeError\u001b[0m: 'list' object is not callable"
     ]
    }
   ],
   "source": [
    "my_list("
   ]
  },
  {
   "cell_type": "code",
   "execution_count": null,
   "id": "409652bf-5620-4958-aa06-04b98190ea3b",
   "metadata": {},
   "outputs": [],
   "source": []
  },
  {
   "cell_type": "code",
   "execution_count": null,
   "id": "b5c0a238-19a8-4b4d-8f90-954705864a17",
   "metadata": {},
   "outputs": [],
   "source": []
  }
 ],
 "metadata": {
  "kernelspec": {
   "display_name": "Python 3 (ipykernel)",
   "language": "python",
   "name": "python3"
  },
  "language_info": {
   "codemirror_mode": {
    "name": "ipython",
    "version": 3
   },
   "file_extension": ".py",
   "mimetype": "text/x-python",
   "name": "python",
   "nbconvert_exporter": "python",
   "pygments_lexer": "ipython3",
   "version": "3.11.7"
  }
 },
 "nbformat": 4,
 "nbformat_minor": 5
}
