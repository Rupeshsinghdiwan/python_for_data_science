{
 "cells": [
  {
   "cell_type": "code",
   "execution_count": 6,
   "id": "21dc7983-06fe-475e-bb9e-73c68e064805",
   "metadata": {},
   "outputs": [
    {
     "data": {
      "text/plain": [
       "set"
      ]
     },
     "execution_count": 6,
     "metadata": {},
     "output_type": "execute_result"
    }
   ],
   "source": [
    "my_set = set()\n",
    "type(my_set)"
   ]
  },
  {
   "cell_type": "code",
   "execution_count": 10,
   "id": "dc4fb0fb-f7fb-442e-9cc2-e88dcbac6daa",
   "metadata": {},
   "outputs": [
    {
     "data": {
      "text/plain": [
       "{1, 3, 4, 5, 8, 9, 22, 67}"
      ]
     },
     "execution_count": 10,
     "metadata": {},
     "output_type": "execute_result"
    }
   ],
   "source": [
    "my_set ={1,22,3,4,5,67,8,9}\n",
    "my_set"
   ]
  },
  {
   "cell_type": "code",
   "execution_count": 13,
   "id": "16e09065-ec69-4246-adb4-0511d9604246",
   "metadata": {},
   "outputs": [
    {
     "data": {
      "text/plain": [
       "{1, 3, 4, 5, 8, 9, 22, 67, 300}"
      ]
     },
     "execution_count": 13,
     "metadata": {},
     "output_type": "execute_result"
    }
   ],
   "source": [
    "my_set.add(300)\n",
    "my_set"
   ]
  },
  {
   "cell_type": "code",
   "execution_count": 17,
   "id": "2d4d7e1a-b37c-4373-8ec3-2379db07002d",
   "metadata": {},
   "outputs": [],
   "source": [
    "set1 ={\"raj\",\"rupesh\",\"kumar\"}\n",
    "set2 ={\"raj\",\"rupesh\",\"rahul\"}"
   ]
  },
  {
   "cell_type": "code",
   "execution_count": 18,
   "id": "87aeadcc-4d7a-4fdc-93a9-e82ca51f21a5",
   "metadata": {},
   "outputs": [
    {
     "data": {
      "text/plain": [
       "{'rahul', 'raj', 'rupesh'}"
      ]
     },
     "execution_count": 18,
     "metadata": {},
     "output_type": "execute_result"
    }
   ],
   "source": [
    "set2.intersection(set1)\n",
    "set2"
   ]
  },
  {
   "cell_type": "code",
   "execution_count": 19,
   "id": "2eaf937d-c4de-445a-8b64-f507af6ac813",
   "metadata": {},
   "outputs": [
    {
     "data": {
      "text/plain": [
       "{'rahul'}"
      ]
     },
     "execution_count": 19,
     "metadata": {},
     "output_type": "execute_result"
    }
   ],
   "source": [
    "set2.difference(set1)"
   ]
  },
  {
   "cell_type": "code",
   "execution_count": 21,
   "id": "fb949696-7ae3-48db-afc3-37df5017a149",
   "metadata": {},
   "outputs": [],
   "source": [
    "my_dict={\"car1\" : \"audi\",\"car2\" :\"bmw\"}\n"
   ]
  },
  {
   "cell_type": "code",
   "execution_count": 22,
   "id": "b4924e22-602f-450a-9706-6e6a0a9cc7a7",
   "metadata": {},
   "outputs": [
    {
     "name": "stdout",
     "output_type": "stream",
     "text": [
      "car1\n",
      "car2\n"
     ]
    }
   ],
   "source": [
    "for it in my_dict:\n",
    "    print(it)"
   ]
  },
  {
   "cell_type": "code",
   "execution_count": 25,
   "id": "e78e329f-e210-4440-857c-deb3915768d2",
   "metadata": {},
   "outputs": [
    {
     "name": "stdout",
     "output_type": "stream",
     "text": [
      "audi\n",
      "bmw\n"
     ]
    }
   ],
   "source": [
    "for it in my_dict.values():\n",
    "    print(it)"
   ]
  },
  {
   "cell_type": "code",
   "execution_count": 26,
   "id": "2d66013b-4e43-4851-a44c-3e73be935a21",
   "metadata": {},
   "outputs": [
    {
     "name": "stdout",
     "output_type": "stream",
     "text": [
      "('car1', 'audi')\n",
      "('car2', 'bmw')\n"
     ]
    }
   ],
   "source": [
    "for it in my_dict.items():\n",
    "    print(it)"
   ]
  },
  {
   "cell_type": "code",
   "execution_count": 31,
   "id": "0f763d91-1bea-44b8-b7fb-5e4851167e01",
   "metadata": {},
   "outputs": [],
   "source": [
    "my_dict[\"car3\"]=\"maruti\""
   ]
  },
  {
   "cell_type": "code",
   "execution_count": 32,
   "id": "bf5cc59d-ea6d-4274-ab16-0e1d638045f6",
   "metadata": {},
   "outputs": [
    {
     "data": {
      "text/plain": [
       "{'car1': 'audi', 'car2': 'bmw', 'car3': 'maruti'}"
      ]
     },
     "execution_count": 32,
     "metadata": {},
     "output_type": "execute_result"
    }
   ],
   "source": [
    "my_dict"
   ]
  },
  {
   "cell_type": "code",
   "execution_count": null,
   "id": "0735d27d-9360-46a9-8dc0-adf3fabf8782",
   "metadata": {},
   "outputs": [],
   "source": []
  }
 ],
 "metadata": {
  "kernelspec": {
   "display_name": "Python 3 (ipykernel)",
   "language": "python",
   "name": "python3"
  },
  "language_info": {
   "codemirror_mode": {
    "name": "ipython",
    "version": 3
   },
   "file_extension": ".py",
   "mimetype": "text/x-python",
   "name": "python",
   "nbconvert_exporter": "python",
   "pygments_lexer": "ipython3",
   "version": "3.11.7"
  }
 },
 "nbformat": 4,
 "nbformat_minor": 5
}
