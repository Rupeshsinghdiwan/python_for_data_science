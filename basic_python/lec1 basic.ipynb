{
 "cells": [
  {
   "cell_type": "code",
   "execution_count": 1,
   "id": "18ff7e4e-c181-4392-96da-eaf93827609d",
   "metadata": {},
   "outputs": [
    {
     "name": "stdout",
     "output_type": "stream",
     "text": [
      "hello\n"
     ]
    }
   ],
   "source": [
    "print(\"hello\")"
   ]
  },
  {
   "cell_type": "code",
   "execution_count": 8,
   "id": "971d2398-71df-4b88-bbd1-831b2687bd6e",
   "metadata": {},
   "outputs": [],
   "source": [
    "firt_name =\"rupesh\"\n",
    "last_name = \"raj\""
   ]
  },
  {
   "cell_type": "code",
   "execution_count": 13,
   "id": "5a0230dc-cc64-4a7b-bd37-90a6e0136897",
   "metadata": {},
   "outputs": [
    {
     "name": "stdout",
     "output_type": "stream",
     "text": [
      " my first name is rupesh and last name is raj\n"
     ]
    }
   ],
   "source": [
    " str = \" my first name is {} and last name is {}\" .format(firt_name ,last_name)\n",
    "print(str)"
   ]
  },
  {
   "cell_type": "code",
   "execution_count": null,
   "id": "0bd8b22d-e6b4-42a7-af04-58cb02da041a",
   "metadata": {},
   "outputs": [],
   "source": []
  }
 ],
 "metadata": {
  "kernelspec": {
   "display_name": "Python 3 (ipykernel)",
   "language": "python",
   "name": "python3"
  },
  "language_info": {
   "codemirror_mode": {
    "name": "ipython",
    "version": 3
   },
   "file_extension": ".py",
   "mimetype": "text/x-python",
   "name": "python",
   "nbconvert_exporter": "python",
   "pygments_lexer": "ipython3",
   "version": "3.11.7"
  }
 },
 "nbformat": 4,
 "nbformat_minor": 5
}
